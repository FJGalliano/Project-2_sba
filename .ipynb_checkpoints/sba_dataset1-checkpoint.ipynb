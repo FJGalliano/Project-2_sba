{
 "cells": [
  {
   "cell_type": "code",
   "execution_count": 1,
   "metadata": {
    "collapsed": true
   },
   "outputs": [],
   "source": [
    "import pandas as pd\n",
    "import numpy as np\n",
    "import os\n",
    "import matplotlib.pyplot as plt"
   ]
  },
  {
   "cell_type": "code",
   "execution_count": 2,
   "metadata": {
    "collapsed": true
   },
   "outputs": [],
   "source": [
    "import sqlalchemy\n",
    "from sqlalchemy.ext.automap import automap_base\n",
    "from sqlalchemy.orm import Session\n",
    "from sqlalchemy import create_engine, func"
   ]
  },
  {
   "cell_type": "code",
   "execution_count": null,
   "metadata": {},
   "outputs": [],
   "source": [
    "sba = \"sbc_FY2010-Present.csv\"\n",
    "sba_df = pd.read_csv(sba)\n",
    "sba_df.head()"
   ]
  },
  {
   "cell_type": "code",
   "execution_count": null,
   "metadata": {},
   "outputs": [],
   "source": [
    "sba_df.to_sql(\"bank_data\",engine,index=False)"
   ]
  },
  {
   "cell_type": "code",
   "execution_count": 3,
   "metadata": {},
   "outputs": [],
   "source": [
    "# Create engine using the `clean_measurement.sqlite` database file\n",
    "engine = create_engine('sqlite:///sbc_FY2010-Present.sqlite')"
   ]
  },
  {
   "cell_type": "code",
   "execution_count": null,
   "metadata": {},
   "outputs": [],
   "source": [
    "Base = automap_base()"
   ]
  },
  {
   "cell_type": "code",
   "execution_count": null,
   "metadata": {},
   "outputs": [],
   "source": [
    "Base.prepare(engine, reflect=True)"
   ]
  },
  {
   "cell_type": "code",
   "execution_count": null,
   "metadata": {},
   "outputs": [],
   "source": [
    "Base.classes.keys()"
   ]
  },
  {
   "cell_type": "code",
   "execution_count": 4,
   "metadata": {
    "collapsed": true
   },
   "outputs": [],
   "source": [
    "conn = engine.connect()"
   ]
  },
  {
   "cell_type": "code",
   "execution_count": 6,
   "metadata": {},
   "outputs": [],
   "source": [
    "results = conn.execute(\"select * from bank_data limit 10\").fetchall()"
   ]
  },
  {
   "cell_type": "code",
   "execution_count": 7,
   "metadata": {},
   "outputs": [
    {
     "name": "stdout",
     "output_type": "stream",
     "text": [
      "('CRESA PARTNERS - DENVER, INC.', '7979 E TUFTS AVE PKWY STE 810', 'DENVER', 'CO', 80237.0, 'Zions Bank, A Division of', 'SALT LAKE CITY', 'UT', '84133', 250000.0, 125000.0, '10/1/09', 2010.0, 5.26, 84.0, 'PIF', None, 0.0, 531210.0, 'Offices of Real Estate Agents and Brokers', 'COLORADO DISTRICT OFFICE\\xa0', 1.0, 35.0)\n",
      "('The Hilltop Tavern', '4757 Folsom Blvd', 'Sacramento', 'CA', 95819.0, 'Plumas Bank', 'QUINCY', 'CA', '95971', 233500.0, 210150.0, '10/1/09', 2010.0, 6.0, 120.0, 'EXEMPT', None, 0.0, 722410.0, 'Drinking Places (Alcoholic Beverages)', 'SACRAMENTO DISTRICT OFFICE\\xa0', 6.0, 6.0)\n",
      "('River City Car Wash LLC', '649 Harbor Blvd', 'West Sacramento', 'CA', 95691.0, 'Wells Fargo Bank, National Association', 'SIOUX FALLS', 'SD', '57104', 683900.0, 615510.0, '10/1/09', 2010.0, 5.25, 210.0, 'CHGOFF', '8/24/15', 320098.0, 811192.0, 'Car Washes', 'SACRAMENTO DISTRICT OFFICE\\xa0', 6.0, 27.0)\n",
      "('Alphagraphics', '71 Newtown Road.', 'Danbury', 'CT', 6810.0, 'Union Savings Bank', 'DANBURY', 'CT', '6810', 100000.0, 50000.0, '10/1/09', 2010.0, 5.25, 84.0, 'EXEMPT', None, 0.0, 323110.0, 'Commercial Lithographic Printing', 'CONNECTICUT DISTRICT OFFICE\\xa0', 5.0, 5.0)\n",
      "('ON SITE AUTOMOTIVE APPEARANCE', '603 WOODBRIDGE COURT', 'MIDDLEBURY', 'IN', 46540.0, 'Crossroads Small Business Solutions, LLC', 'Rancho Cucamonga', 'CA', '91730', 12500.0, 11250.0, '10/1/09', 2010.0, 7.75, 120.0, 'PIF', None, 0.0, 811121.0, 'Automotive Body, Paint, and Interior Repair and Maintenance', 'INDIANA DISTRICT OFFICE\\xa0', 2.0, 2.0)\n",
      "('AW ENTERPRISES', '106 WEST LAKE STREET', 'CAMDEN', 'TN', 38320.0, 'Crossroads Small Business Solutions, LLC', 'Rancho Cucamonga', 'CA', '91730', 10000.0, 9000.0, '10/1/09', 2010.0, 7.24, 120.0, 'EXEMPT', None, 0.0, 453220.0, 'Gift, Novelty, and Souvenir Stores', 'TENNESSEE DISTRICT OFFICE\\xa0', 7.0, 3.0)\n",
      "('TA SPECIALTY', '331 HEATHERSTONE ROAD', 'COLUMBIA', 'SC', 29212.0, 'Crossroads Small Business Solutions, LLC', 'Rancho Cucamonga', 'CA', '91730', 20000.0, 18000.0, '10/1/09', 2010.0, 7.75, 120.0, 'PIF', None, 0.0, 541890.0, 'Other Services Related to Advertising', 'SOUTH CAROLINA DISTRICT OFFICE\\xa0', 2.0, 4.0)\n",
      "('Hansen Concrete, Inc.', '8656 71st Street NE', 'SPICER', 'MN', 56288.0, 'Lake Region Bank', 'NEW LONDON', 'MN', '56273', 200000.0, 100000.0, '10/1/09', 2010.0, 7.5, 60.0, 'PIF', None, 0.0, 236220.0, 'Commercial and Institutional Building Construction', 'MINNESOTA DISTRICT OFFICE\\xa0', 7.0, 12.0)\n",
      "(\"SHADIA'S SECRETS INC\", '950 GLADES RD 2ND FLOOR', 'BOCA RATON', 'FL', 33431.0, 'Crossroads Small Business Solutions, LLC', 'Rancho Cucamonga', 'CA', '91730', 15000.0, 13500.0, '10/1/09', 2010.0, 7.75, 120.0, 'EXEMPT', None, 0.0, 446199.0, 'All Other Health and Personal Care Stores', 'SOUTH FLORIDA DISTRICT OFFICE\\xa0', 22.0, 1.0)\n",
      "(\"JT'S COFFEE AND SANDWICH SHOP\", '1167 HARRISON STREET', 'SAN FRANCISCO', 'CA', 94103.0, 'Crossroads Small Business Solutions, LLC', 'Rancho Cucamonga', 'CA', '91730', 20000.0, 18000.0, '10/1/09', 2010.0, 7.75, 120.0, 'PIF', None, 0.0, 722213.0, 'Snack and Nonalcoholic Beverage Bars', 'SAN FRANCISCO DISTRICT OFFICE\\xa0', 12.0, 4.0)\n"
     ]
    }
   ],
   "source": [
    "for result in results:\n",
    "    print(result)"
   ]
  },
  {
   "cell_type": "code",
   "execution_count": null,
   "metadata": {
    "collapsed": true
   },
   "outputs": [],
   "source": []
  }
 ],
 "metadata": {
  "kernelspec": {
   "display_name": "Python 3",
   "language": "python",
   "name": "python3"
  },
  "language_info": {
   "codemirror_mode": {
    "name": "ipython",
    "version": 3
   },
   "file_extension": ".py",
   "mimetype": "text/x-python",
   "name": "python",
   "nbconvert_exporter": "python",
   "pygments_lexer": "ipython3",
   "version": "3.6.3"
  }
 },
 "nbformat": 4,
 "nbformat_minor": 2
}
